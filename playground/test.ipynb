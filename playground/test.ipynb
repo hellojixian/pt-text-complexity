{
 "cells": [
  {
   "cell_type": "code",
   "execution_count": 1,
   "metadata": {},
   "outputs": [
    {
     "name": "stdout",
     "output_type": "stream",
     "text": [
      "[('A1', 0.43), ('A2', 0.11), ('B1', 0.19), ('B2', 0.02), ('C1', 0.19), ('C2', 0.04), ('C2+', 0.02)]\n",
      "{'meta': {'mean_rank': 2751.19, 'rank_levels': [('A1', 0.43), ('B1', 0.19), ('C1', 0.19), ('A2', 0.11), ('C2', 0.04), ('B2', 0.02), ('C2+', 0.02)], 'rank_level': 'A1'}, 'words': [{'word': 'It', 'rank': 0, 'level': 'UNK', 'score': 0}, {'word': 'was', 'rank': 0, 'level': 'UNK', 'score': 0}, {'word': 'the', 'rank': 0, 'level': 'UNK', 'score': 0}, {'word': 'hunter', 'rank': 4001, 'level': 'C1', 'score': 0.1429}, {'word': \"'s\", 'rank': 0, 'level': 'UNK', 'score': 0}, {'word': 'first', 'rank': 55, 'level': 'A1', 'score': 0.0902}, {'word': 'time', 'rank': 17, 'level': 'A1', 'score': 0.0267}, {'word': 'outside', 'rank': 492, 'level': 'A1', 'score': 0.8197}, {'word': 'Montana', 'rank': 0, 'level': 'UNK', 'score': 0}, {'word': '.', 'rank': 0, 'level': 'UNK', 'score': 0}, {'word': 'He', 'rank': 0, 'level': 'UNK', 'score': 0}, {'word': 'woke', 'rank': 1109, 'level': 'A2', 'score': 0.8481}, {'word': ',', 'rank': 0, 'level': 'UNK', 'score': 0}, {'word': 'stricken', 'rank': 8634, 'level': 'C1', 'score': 0.8048}, {'word': 'still', 'rank': 88, 'level': 'A1', 'score': 0.1452}, {'word': 'with', 'rank': 1, 'level': 'A1', 'score': 0.0}, {'word': 'the', 'rank': 0, 'level': 'UNK', 'score': 0}, {'word': 'hours-old', 'rank': 0, 'level': 'UNK', 'score': 0}, {'word': 'vision', 'rank': 1569, 'level': 'B1', 'score': 0.2833}, {'word': 'of', 'rank': 0, 'level': 'UNK', 'score': 0}, {'word': 'ascending', 'rank': 4697, 'level': 'C1', 'score': 0.2423}, {'word': 'through', 'rank': 89, 'level': 'A1', 'score': 0.1469}, {'word': 'rose-lit', 'rank': 0, 'level': 'UNK', 'score': 0}, {'word': 'cumulus', 'rank': 26786, 'level': 'C2+', 'score': 0.2262}, {'word': ',', 'rank': 0, 'level': 'UNK', 'score': 0}, {'word': 'of', 'rank': 0, 'level': 'UNK', 'score': 0}, {'word': 'houses', 'rank': 123, 'level': 'A1', 'score': 0.2037}, {'word': 'and', 'rank': 0, 'level': 'UNK', 'score': 0}, {'word': 'barns', 'rank': 4554, 'level': 'C1', 'score': 0.2219}, {'word': 'like', 'rank': 7, 'level': 'A1', 'score': 0.01}, {'word': 'specks', 'rank': 12655, 'level': 'C2', 'score': 0.2654}, {'word': 'deep', 'rank': 781, 'level': 'A2', 'score': 0.3005}, {'word': 'in', 'rank': 0, 'level': 'UNK', 'score': 0}, {'word': 'the', 'rank': 0, 'level': 'UNK', 'score': 0}, {'word': 'snowed-in', 'rank': 0, 'level': 'UNK', 'score': 0}, {'word': 'valleys', 'rank': 1455, 'level': 'B1', 'score': 0.1955}, {'word': ',', 'rank': 0, 'level': 'UNK', 'score': 0}, {'word': 'all', 'rank': 3, 'level': 'A1', 'score': 0.0033}, {'word': 'the', 'rank': 0, 'level': 'UNK', 'score': 0}, {'word': 'scrolling', 'rank': 7461, 'level': 'C1', 'score': 0.6372}, {'word': 'country', 'rank': 177, 'level': 'A1', 'score': 0.2938}, {'word': 'below', 'rank': 839, 'level': 'A2', 'score': 0.3973}, {'word': 'looking', 'rank': 28, 'level': 'A1', 'score': 0.0451}, {'word': 'December—brown', 'rank': 0, 'level': 'UNK', 'score': 0}, {'word': 'and', 'rank': 0, 'level': 'UNK', 'score': 0}, {'word': 'black', 'rank': 367, 'level': 'A1', 'score': 0.611}, {'word': 'hills', 'rank': 2767, 'level': 'B2', 'score': 0.5331}, {'word': 'streaked', 'rank': 7027, 'level': 'C1', 'score': 0.5752}, {'word': 'with', 'rank': 1, 'level': 'A1', 'score': 0.0}, {'word': 'snow', 'rank': 1738, 'level': 'B1', 'score': 0.4134}, {'word': ',', 'rank': 0, 'level': 'UNK', 'score': 0}, {'word': 'flashes', 'rank': 2411, 'level': 'B1', 'score': 0.9315}, {'word': 'of', 'rank': 0, 'level': 'UNK', 'score': 0}, {'word': 'iced-over', 'rank': 0, 'level': 'UNK', 'score': 0}, {'word': 'lakes', 'rank': 3257, 'level': 'C1', 'score': 0.0366}, {'word': ',', 'rank': 0, 'level': 'UNK', 'score': 0}, {'word': 'the', 'rank': 0, 'level': 'UNK', 'score': 0}, {'word': 'long', 'rank': 95, 'level': 'A1', 'score': 0.1569}, {'word': 'braids', 'rank': 10013, 'level': 'C2', 'score': 0.0012}, {'word': 'of', 'rank': 0, 'level': 'UNK', 'score': 0}, {'word': 'a', 'rank': 0, 'level': 'UNK', 'score': 0}, {'word': 'river', 'rank': 678, 'level': 'A2', 'score': 0.1285}, {'word': 'gleaming', 'rank': 0, 'level': 'UNK', 'score': 0}, {'word': 'at', 'rank': 0, 'level': 'UNK', 'score': 0}, {'word': 'the', 'rank': 0, 'level': 'UNK', 'score': 0}, {'word': 'bottom', 'rank': 1254, 'level': 'B1', 'score': 0.0408}, {'word': 'of', 'rank': 0, 'level': 'UNK', 'score': 0}, {'word': 'a', 'rank': 0, 'level': 'UNK', 'score': 0}, {'word': 'canyon', 'rank': 8433, 'level': 'C1', 'score': 0.7761}, {'word': '.', 'rank': 0, 'level': 'UNK', 'score': 0}, {'word': 'Above', 'rank': 0, 'level': 'UNK', 'score': 0}, {'word': 'the', 'rank': 0, 'level': 'UNK', 'score': 0}, {'word': 'wing', 'rank': 1854, 'level': 'B1', 'score': 0.5027}, {'word': 'the', 'rank': 0, 'level': 'UNK', 'score': 0}, {'word': 'sky', 'rank': 1365, 'level': 'B1', 'score': 0.1263}, {'word': 'had', 'rank': 0, 'level': 'UNK', 'score': 0}, {'word': 'deepened', 'rank': 7356, 'level': 'C1', 'score': 0.6222}, {'word': 'to', 'rank': 0, 'level': 'UNK', 'score': 0}, {'word': 'a', 'rank': 0, 'level': 'UNK', 'score': 0}, {'word': 'blue', 'rank': 801, 'level': 'A2', 'score': 0.3339}, {'word': 'so', 'rank': 0, 'level': 'UNK', 'score': 0}, {'word': 'pure', 'rank': 1510, 'level': 'B1', 'score': 0.2379}, {'word': 'he', 'rank': 0, 'level': 'UNK', 'score': 0}, {'word': 'knew', 'rank': 6, 'level': 'A1', 'score': 0.0083}, {'word': 'it', 'rank': 0, 'level': 'UNK', 'score': 0}, {'word': 'would', 'rank': 0, 'level': 'UNK', 'score': 0}, {'word': 'bring', 'rank': 309, 'level': 'A1', 'score': 0.5142}, {'word': 'tears', 'rank': 1793, 'level': 'B1', 'score': 0.4557}, {'word': 'to', 'rank': 0, 'level': 'UNK', 'score': 0}, {'word': 'his', 'rank': 0, 'level': 'UNK', 'score': 0}, {'word': 'eyes', 'rank': 343, 'level': 'A1', 'score': 0.571}, {'word': 'if', 'rank': 0, 'level': 'UNK', 'score': 0}, {'word': 'he', 'rank': 0, 'level': 'UNK', 'score': 0}, {'word': 'looked', 'rank': 28, 'level': 'A1', 'score': 0.0451}, {'word': 'long', 'rank': 95, 'level': 'A1', 'score': 0.1569}, {'word': 'enough', 'rank': 184, 'level': 'A1', 'score': 0.3055}, {'word': '.', 'rank': 0, 'level': 'UNK', 'score': 0}]}\n"
     ]
    }
   ],
   "source": [
    "import os, sys\n",
    "sys.path.append(os.path.abspath('../'))\n",
    "\n",
    "from core.text_leveler import text_leveling\n",
    "text = \"\"\"\n",
    "  It was the hunter's first time outside Montana.\n",
    "  He woke, stricken still with the hours-old vision of ascending through rose-lit cumulus,\n",
    "  of houses and barns like specks deep in the snowed-in valleys,\n",
    "  all the scrolling country below looking December—brown and black hills streaked with snow,\n",
    "  flashes of iced-over lakes,\n",
    "  the long braids of a river gleaming at the bottom of a canyon.\n",
    "  Above the wing the sky had deepened to a blue so pure he knew it would bring tears to his eyes if he looked long enough.\n",
    "\"\"\"\n",
    "\n",
    "text = \"\"\"\n",
    "t's the question we've been asking ever since President Vladimir Putin ordered the full-scale Russian invasion of Ukraine. In this war, would the Kremlin go nuclear?\n",
    "\n",
    "President Joe Biden isn't ruling it out.\n",
    "\n",
    "\"I worry about Putin using tactical nuclear weapons,\" the US president said this week. He believes the danger is \"real\".\n",
    "\n",
    "I don't know whether President Biden reads the Russian magazine Profile. If he does, you can understand why he's worried.\n",
    "\n",
    "Putin confirms first nuclear weapons moved to Belarus\n",
    "Zelensky admits slow progress in Ukraine offensive\n",
    "Could Russia use tactical nuclear weapons?\n",
    "Last week, Profile published an article by prominent Russian foreign and defence policy expert Sergei Karaganov. The hawkish Mr Karaganov is honorary chairman of the Presidium of the Council on Foreign and Defence Policy. In short, he's well-connected to those in power here.\n",
    "\n",
    "His argument goes like this. In order to \"break the West's will\", Russia \"will have to make nuclear deterrence a convincing argument again by lowering the threshold for the use of nuclear weapons\".\n",
    "\n",
    "\"The enemy must know that we are ready to deliver a pre-emptive strike in retaliation for all of its current and past acts of aggression in order to prevent a slide into global thermonuclear war.\n",
    "\"\"\"\n",
    "res = text_leveling(text)"
   ]
  }
 ],
 "metadata": {
  "kernelspec": {
   "display_name": "base",
   "language": "python",
   "name": "python3"
  },
  "language_info": {
   "codemirror_mode": {
    "name": "ipython",
    "version": 3
   },
   "file_extension": ".py",
   "mimetype": "text/x-python",
   "name": "python",
   "nbconvert_exporter": "python",
   "pygments_lexer": "ipython3",
   "version": "3.10.9"
  },
  "orig_nbformat": 4
 },
 "nbformat": 4,
 "nbformat_minor": 2
}
