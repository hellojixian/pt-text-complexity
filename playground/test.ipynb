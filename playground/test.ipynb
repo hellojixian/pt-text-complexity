{
 "cells": [
  {
   "cell_type": "code",
   "execution_count": 1,
   "metadata": {},
   "outputs": [
    {
     "name": "stderr",
     "output_type": "stream",
     "text": [
      "2023-06-22 11:42:22.173732: I tensorflow/core/util/port.cc:110] oneDNN custom operations are on. You may see slightly different numerical results due to floating-point round-off errors from different computation orders. To turn them off, set the environment variable `TF_ENABLE_ONEDNN_OPTS=0`.\n",
      "2023-06-22 11:42:22.194148: I tensorflow/core/platform/cpu_feature_guard.cc:182] This TensorFlow binary is optimized to use available CPU instructions in performance-critical operations.\n",
      "To enable the following instructions: AVX2 AVX512F AVX512_VNNI AVX512_BF16 FMA, in other operations, rebuild TensorFlow with the appropriate compiler flags.\n"
     ]
    },
    {
     "name": "stdout",
     "output_type": "stream",
     "text": [
      "{'level': 'B1', 'score': {'A1': 0.3597489595413208, 'A2': 0.050927698612213135, 'B1': 0.11097660660743713, 'B2': 0.05561008304357529, 'C1': 0.40324467420578003, 'C2': 0.01949198730289936}}\n"
     ]
    }
   ],
   "source": [
    "import os, sys\n",
    "sys.path.append(os.path.abspath('../'))\n",
    "\n",
    "from core.text_leveler import text_leveling\n",
    "from core.text_cefr_predict import cefr_predict\n",
    "text = \"\"\"\n",
    "  It was the hunter's first time outside Montana.\n",
    "  He woke, stricken still with the hours-old vision of ascending through rose-lit cumulus,\n",
    "  of houses and barns like specks deep in the snowed-in valleys,\n",
    "  all the scrolling country below looking December—brown and black hills streaked with snow,\n",
    "  flashes of iced-over lakes,\n",
    "  the long braids of a river gleaming at the bottom of a canyon.\n",
    "  Above the wing the sky had deepened to a blue so pure he knew it would bring tears to his eyes if he looked long enough.\n",
    "\"\"\"\n",
    "\n",
    "# text = \"\"\"\n",
    "# t's the question we've been asking ever since President Vladimir Putin ordered the full-scale Russian invasion of Ukraine. In this war, would the Kremlin go nuclear?\n",
    "\n",
    "# President Joe Biden isn't ruling it out.\n",
    "\n",
    "# \"I worry about Putin using tactical nuclear weapons,\" the US president said this week. He believes the danger is \"real\".\n",
    "\n",
    "# I don't know whether President Biden reads the Russian magazine Profile. If he does, you can understand why he's worried.\n",
    "\n",
    "# Putin confirms first nuclear weapons moved to Belarus\n",
    "# Zelensky admits slow progress in Ukraine offensive\n",
    "# Could Russia use tactical nuclear weapons?\n",
    "# Last week, Profile published an article by prominent Russian foreign and defence policy expert Sergei Karaganov. The hawkish Mr Karaganov is honorary chairman of the Presidium of the Council on Foreign and Defence Policy. In short, he's well-connected to those in power here.\n",
    "\n",
    "# His argument goes like this. In order to \"break the West's will\", Russia \"will have to make nuclear deterrence a convincing argument again by lowering the threshold for the use of nuclear weapons\".\n",
    "\n",
    "# \"The enemy must know that we are ready to deliver a pre-emptive strike in retaliation for all of its current and past acts of aggression in order to prevent a slide into global thermonuclear war.\n",
    "# \"\"\"\n",
    "\n",
    "# text=\"i love you\"\n",
    "res = cefr_predict(text)\n",
    "print(res)"
   ]
  }
 ],
 "metadata": {
  "kernelspec": {
   "display_name": "base",
   "language": "python",
   "name": "python3"
  },
  "language_info": {
   "codemirror_mode": {
    "name": "ipython",
    "version": 3
   },
   "file_extension": ".py",
   "mimetype": "text/x-python",
   "name": "python",
   "nbconvert_exporter": "python",
   "pygments_lexer": "ipython3",
   "version": "3.10.9"
  },
  "orig_nbformat": 4
 },
 "nbformat": 4,
 "nbformat_minor": 2
}
